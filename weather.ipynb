{
 "cells": [
  {
   "cell_type": "code",
   "execution_count": 40,
   "metadata": {},
   "outputs": [],
   "source": [
    "import requests\n",
    "import pandas as pd"
   ]
  },
  {
   "cell_type": "code",
   "execution_count": 41,
   "metadata": {},
   "outputs": [],
   "source": [
    "response = requests.get(\"https://swd.weatherflow.com/swd/rest/observations/station/92258?token=170e381b-652e-43b1-bb53-a201c2e0371f\")"
   ]
  },
  {
   "cell_type": "code",
   "execution_count": 42,
   "metadata": {},
   "outputs": [
    {
     "name": "stdout",
     "output_type": "stream",
     "text": [
      "{'station_id': 92258, 'station_name': 'Carson', 'public_name': 'Carson Dr', 'latitude': 37.38092, 'longitude': -122.04411, 'timezone': 'America/Los_Angeles', 'elevation': 30.829992294311523, 'is_public': True, 'status': {'status_code': 0, 'status_message': 'SUCCESS'}, 'station_units': {'units_temp': 'f', 'units_wind': 'mph', 'units_precip': 'in', 'units_pressure': 'inhg', 'units_distance': 'mi', 'units_direction': 'cardinal', 'units_other': 'imperial'}, 'outdoor_keys': ['timestamp', 'air_temperature', 'barometric_pressure', 'station_pressure', 'pressure_trend', 'sea_level_pressure', 'relative_humidity', 'precip', 'precip_accum_last_1hr', 'precip_accum_local_day', 'precip_accum_local_day_final', 'precip_accum_local_yesterday_final', 'precip_minutes_local_day', 'precip_minutes_local_yesterday_final', 'wind_avg', 'wind_direction', 'wind_gust', 'wind_lull', 'solar_radiation', 'uv', 'brightness', 'lightning_strike_last_epoch', 'lightning_strike_last_distance', 'lightning_strike_count', 'lightning_strike_count_last_1hr', 'lightning_strike_count_last_3hr', 'feels_like', 'heat_index', 'wind_chill', 'dew_point', 'wet_bulb_temperature', 'wet_bulb_globe_temperature', 'delta_t', 'air_density'], 'obs': [{'timestamp': 1675403674, 'air_temperature': 14.5, 'barometric_pressure': 1017.3, 'station_pressure': 1017.3, 'sea_level_pressure': 1021.6, 'relative_humidity': 37, 'precip': 0.0, 'precip_accum_last_1hr': 0.0, 'precip_accum_local_day': 0.0, 'precip_accum_local_day_final': 0.0, 'precip_accum_local_yesterday': 0.0, 'precip_accum_local_yesterday_final': 0.0, 'precip_minutes_local_day': 0, 'precip_minutes_local_yesterday': 0, 'precip_minutes_local_yesterday_final': 0, 'precip_analysis_type_yesterday': 0, 'wind_avg': 3.1, 'wind_direction': 134, 'wind_gust': 5.4, 'wind_lull': 2.1, 'solar_radiation': 0, 'uv': 0.0, 'brightness': 1, 'lightning_strike_last_epoch': 1673712116, 'lightning_strike_last_distance': 32, 'lightning_strike_count': 0, 'lightning_strike_count_last_1hr': 0, 'lightning_strike_count_last_3hr': 0, 'feels_like': 14.5, 'heat_index': 14.5, 'wind_chill': 14.5, 'dew_point': -0.0, 'wet_bulb_temperature': 7.8, 'wet_bulb_globe_temperature': 12.9, 'delta_t': 6.7, 'air_density': 1.23201, 'pressure_trend': 'steady'}]}\n"
     ]
    }
   ],
   "source": [
    "weather = response.json()\n",
    "print(weather)"
   ]
  },
  {
   "cell_type": "code",
   "execution_count": 43,
   "metadata": {},
   "outputs": [],
   "source": [
    "df = pd.DataFrame(weather['obs'])"
   ]
  },
  {
   "cell_type": "code",
   "execution_count": 44,
   "metadata": {},
   "outputs": [],
   "source": [
    "df = df.sort_values(by=['timestamp'], ascending=[False], ignore_index=True)"
   ]
  },
  {
   "cell_type": "code",
   "execution_count": 45,
   "metadata": {},
   "outputs": [
    {
     "data": {
      "text/plain": [
       "Index(['timestamp', 'air_temperature', 'barometric_pressure',\n",
       "       'station_pressure', 'sea_level_pressure', 'relative_humidity', 'precip',\n",
       "       'precip_accum_last_1hr', 'precip_accum_local_day',\n",
       "       'precip_accum_local_day_final', 'precip_accum_local_yesterday',\n",
       "       'precip_accum_local_yesterday_final', 'precip_minutes_local_day',\n",
       "       'precip_minutes_local_yesterday',\n",
       "       'precip_minutes_local_yesterday_final',\n",
       "       'precip_analysis_type_yesterday', 'wind_avg', 'wind_direction',\n",
       "       'wind_gust', 'wind_lull', 'solar_radiation', 'uv', 'brightness',\n",
       "       'lightning_strike_last_epoch', 'lightning_strike_last_distance',\n",
       "       'lightning_strike_count', 'lightning_strike_count_last_1hr',\n",
       "       'lightning_strike_count_last_3hr', 'feels_like', 'heat_index',\n",
       "       'wind_chill', 'dew_point', 'wet_bulb_temperature',\n",
       "       'wet_bulb_globe_temperature', 'delta_t', 'air_density',\n",
       "       'pressure_trend'],\n",
       "      dtype='object')"
      ]
     },
     "execution_count": 45,
     "metadata": {},
     "output_type": "execute_result"
    }
   ],
   "source": [
    "df.keys()"
   ]
  },
  {
   "cell_type": "code",
   "execution_count": 46,
   "metadata": {},
   "outputs": [],
   "source": [
    "df.to_csv('weather.csv')"
   ]
  },
  {
   "cell_type": "code",
   "execution_count": null,
   "metadata": {},
   "outputs": [],
   "source": []
  }
 ],
 "metadata": {
  "kernelspec": {
   "display_name": "Default",
   "language": "python",
   "name": "python3"
  },
  "language_info": {
   "codemirror_mode": {
    "name": "ipython",
    "version": 3
   },
   "file_extension": ".py",
   "mimetype": "text/x-python",
   "name": "python",
   "nbconvert_exporter": "python",
   "pygments_lexer": "ipython3",
   "version": "3.11.0"
  },
  "orig_nbformat": 4,
  "vscode": {
   "interpreter": {
    "hash": "9c509695200338520d35a8db3945512b774f2e482739eb887376fd03ac38cc15"
   }
  }
 },
 "nbformat": 4,
 "nbformat_minor": 2
}
